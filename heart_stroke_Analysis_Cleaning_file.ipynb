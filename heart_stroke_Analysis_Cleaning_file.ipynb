{
 "cells": [
  {
   "cell_type": "code",
   "execution_count": 1,
   "id": "9591c0f8-1e33-4453-aafc-e97d7e63dc7a",
   "metadata": {},
   "outputs": [],
   "source": [
    "import numpy as np\n",
    "import pandas as pd\n",
    "import matplotlib.pyplot as plt\n",
    "import seaborn as sns \n",
    "\n",
    "import warnings\n",
    "warnings.filterwarnings('ignore')"
   ]
  },
  {
   "cell_type": "code",
   "execution_count": 3,
   "id": "16e50468-ac44-4238-991e-fe41ff8ad055",
   "metadata": {},
   "outputs": [],
   "source": [
    "data=pd.read_csv(r\"D:\\Data science by SRK\\stroke_prediction.csv\")"
   ]
  },
  {
   "cell_type": "markdown",
   "id": "fe81684f-08e8-4a33-9b22-23159c7e9754",
   "metadata": {},
   "source": [
    "# Attribute Information\r",
    "1.\n",
    "id: unique identifier2.\r\n",
    "gender: \"Male\", \"Female\" or \"Other3.\"\r\n",
    "age: age of the patie4.nt\r\n",
    "hypertension: 0 if the patient doesn't have hypertension, 1 if the patient has hypertens5.ion\r\n",
    "heart_disease: 0 if the patient doesn't have any heart diseases, 1 if the patient has a heart dis6.ease\r\n",
    "ever_married: \"No\" or 7.\"Yes\"\r\n",
    "work_type: \"children\", \"Govt_jov\", \"Never_worked\", \"Private\" or \"Self-emp8.loyed\"\r\n",
    "Residence_type: \"Rural\" or 9.\"Urban\"\r\n",
    "avg_glucose_level: average glucose level 10.in blood\r\n",
    "bmi: body m11.ass index\r\n",
    "smoking_status: \"formerly smoked\", \"never smoked\", \"smokes\" or 12.\"Unknown\"*\r\n",
    "stroke: 1 if the patient had a stroke or 0 if not\r\n",
    "*Note: \"Unknown\" in smoking_status means that the information is unavailable for this patient"
   ]
  },
  {
   "cell_type": "code",
   "execution_count": 62,
   "id": "df2aab79-d901-40b9-b63b-78e54e85a2ef",
   "metadata": {},
   "outputs": [
    {
     "data": {
      "text/html": [
       "<div>\n",
       "<style scoped>\n",
       "    .dataframe tbody tr th:only-of-type {\n",
       "        vertical-align: middle;\n",
       "    }\n",
       "\n",
       "    .dataframe tbody tr th {\n",
       "        vertical-align: top;\n",
       "    }\n",
       "\n",
       "    .dataframe thead th {\n",
       "        text-align: right;\n",
       "    }\n",
       "</style>\n",
       "<table border=\"1\" class=\"dataframe\">\n",
       "  <thead>\n",
       "    <tr style=\"text-align: right;\">\n",
       "      <th></th>\n",
       "      <th>id</th>\n",
       "      <th>gender</th>\n",
       "      <th>age</th>\n",
       "      <th>hypertension</th>\n",
       "      <th>heart_disease</th>\n",
       "      <th>ever_married</th>\n",
       "      <th>work_type</th>\n",
       "      <th>Residence_type</th>\n",
       "      <th>avg_glucose_level</th>\n",
       "      <th>bmi</th>\n",
       "      <th>smoking_status</th>\n",
       "      <th>stroke</th>\n",
       "    </tr>\n",
       "  </thead>\n",
       "  <tbody>\n",
       "    <tr>\n",
       "      <th>0</th>\n",
       "      <td>30669</td>\n",
       "      <td>Male</td>\n",
       "      <td>child</td>\n",
       "      <td>NO</td>\n",
       "      <td>NO</td>\n",
       "      <td>No</td>\n",
       "      <td>children</td>\n",
       "      <td>Rural</td>\n",
       "      <td>95.12</td>\n",
       "      <td>18.0</td>\n",
       "      <td>never smoked</td>\n",
       "      <td>NO</td>\n",
       "    </tr>\n",
       "    <tr>\n",
       "      <th>1</th>\n",
       "      <td>30468</td>\n",
       "      <td>Male</td>\n",
       "      <td>middle_aged</td>\n",
       "      <td>YES</td>\n",
       "      <td>NO</td>\n",
       "      <td>Yes</td>\n",
       "      <td>Private</td>\n",
       "      <td>Urban</td>\n",
       "      <td>87.96</td>\n",
       "      <td>39.2</td>\n",
       "      <td>never smoked</td>\n",
       "      <td>NO</td>\n",
       "    </tr>\n",
       "    <tr>\n",
       "      <th>2</th>\n",
       "      <td>16523</td>\n",
       "      <td>Female</td>\n",
       "      <td>child</td>\n",
       "      <td>NO</td>\n",
       "      <td>NO</td>\n",
       "      <td>No</td>\n",
       "      <td>Private</td>\n",
       "      <td>Urban</td>\n",
       "      <td>110.89</td>\n",
       "      <td>17.6</td>\n",
       "      <td>never smoked</td>\n",
       "      <td>NO</td>\n",
       "    </tr>\n",
       "    <tr>\n",
       "      <th>3</th>\n",
       "      <td>56543</td>\n",
       "      <td>Female</td>\n",
       "      <td>senior_citizen</td>\n",
       "      <td>NO</td>\n",
       "      <td>NO</td>\n",
       "      <td>Yes</td>\n",
       "      <td>Private</td>\n",
       "      <td>Rural</td>\n",
       "      <td>69.04</td>\n",
       "      <td>35.9</td>\n",
       "      <td>formerly smoked</td>\n",
       "      <td>NO</td>\n",
       "    </tr>\n",
       "    <tr>\n",
       "      <th>4</th>\n",
       "      <td>46136</td>\n",
       "      <td>Male</td>\n",
       "      <td>teenger</td>\n",
       "      <td>NO</td>\n",
       "      <td>NO</td>\n",
       "      <td>No</td>\n",
       "      <td>Never_worked</td>\n",
       "      <td>Rural</td>\n",
       "      <td>161.28</td>\n",
       "      <td>19.1</td>\n",
       "      <td>never smoked</td>\n",
       "      <td>NO</td>\n",
       "    </tr>\n",
       "    <tr>\n",
       "      <th>...</th>\n",
       "      <td>...</td>\n",
       "      <td>...</td>\n",
       "      <td>...</td>\n",
       "      <td>...</td>\n",
       "      <td>...</td>\n",
       "      <td>...</td>\n",
       "      <td>...</td>\n",
       "      <td>...</td>\n",
       "      <td>...</td>\n",
       "      <td>...</td>\n",
       "      <td>...</td>\n",
       "      <td>...</td>\n",
       "    </tr>\n",
       "    <tr>\n",
       "      <th>43395</th>\n",
       "      <td>56196</td>\n",
       "      <td>Female</td>\n",
       "      <td>child</td>\n",
       "      <td>NO</td>\n",
       "      <td>NO</td>\n",
       "      <td>No</td>\n",
       "      <td>children</td>\n",
       "      <td>Urban</td>\n",
       "      <td>58.64</td>\n",
       "      <td>20.4</td>\n",
       "      <td>never smoked</td>\n",
       "      <td>NO</td>\n",
       "    </tr>\n",
       "    <tr>\n",
       "      <th>43396</th>\n",
       "      <td>5450</td>\n",
       "      <td>Female</td>\n",
       "      <td>middle_aged</td>\n",
       "      <td>NO</td>\n",
       "      <td>NO</td>\n",
       "      <td>Yes</td>\n",
       "      <td>Govt_job</td>\n",
       "      <td>Urban</td>\n",
       "      <td>213.61</td>\n",
       "      <td>55.4</td>\n",
       "      <td>formerly smoked</td>\n",
       "      <td>NO</td>\n",
       "    </tr>\n",
       "    <tr>\n",
       "      <th>43397</th>\n",
       "      <td>28375</td>\n",
       "      <td>Female</td>\n",
       "      <td>senior_citizen</td>\n",
       "      <td>YES</td>\n",
       "      <td>NO</td>\n",
       "      <td>Yes</td>\n",
       "      <td>Private</td>\n",
       "      <td>Urban</td>\n",
       "      <td>91.94</td>\n",
       "      <td>28.9</td>\n",
       "      <td>formerly smoked</td>\n",
       "      <td>NO</td>\n",
       "    </tr>\n",
       "    <tr>\n",
       "      <th>43398</th>\n",
       "      <td>27973</td>\n",
       "      <td>Male</td>\n",
       "      <td>middle_aged</td>\n",
       "      <td>NO</td>\n",
       "      <td>NO</td>\n",
       "      <td>Yes</td>\n",
       "      <td>Private</td>\n",
       "      <td>Urban</td>\n",
       "      <td>99.16</td>\n",
       "      <td>33.2</td>\n",
       "      <td>never smoked</td>\n",
       "      <td>NO</td>\n",
       "    </tr>\n",
       "    <tr>\n",
       "      <th>43399</th>\n",
       "      <td>36271</td>\n",
       "      <td>Female</td>\n",
       "      <td>senior_citizen</td>\n",
       "      <td>NO</td>\n",
       "      <td>NO</td>\n",
       "      <td>Yes</td>\n",
       "      <td>Private</td>\n",
       "      <td>Urban</td>\n",
       "      <td>79.48</td>\n",
       "      <td>20.6</td>\n",
       "      <td>never smoked</td>\n",
       "      <td>NO</td>\n",
       "    </tr>\n",
       "  </tbody>\n",
       "</table>\n",
       "<p>43400 rows × 12 columns</p>\n",
       "</div>"
      ],
      "text/plain": [
       "          id  gender             age hypertension heart_disease ever_married  \\\n",
       "0      30669    Male           child           NO            NO           No   \n",
       "1      30468    Male     middle_aged          YES            NO          Yes   \n",
       "2      16523  Female           child           NO            NO           No   \n",
       "3      56543  Female  senior_citizen           NO            NO          Yes   \n",
       "4      46136    Male         teenger           NO            NO           No   \n",
       "...      ...     ...             ...          ...           ...          ...   \n",
       "43395  56196  Female           child           NO            NO           No   \n",
       "43396   5450  Female     middle_aged           NO            NO          Yes   \n",
       "43397  28375  Female  senior_citizen          YES            NO          Yes   \n",
       "43398  27973    Male     middle_aged           NO            NO          Yes   \n",
       "43399  36271  Female  senior_citizen           NO            NO          Yes   \n",
       "\n",
       "          work_type Residence_type  avg_glucose_level   bmi   smoking_status  \\\n",
       "0          children          Rural              95.12  18.0     never smoked   \n",
       "1           Private          Urban              87.96  39.2     never smoked   \n",
       "2           Private          Urban             110.89  17.6     never smoked   \n",
       "3           Private          Rural              69.04  35.9  formerly smoked   \n",
       "4      Never_worked          Rural             161.28  19.1     never smoked   \n",
       "...             ...            ...                ...   ...              ...   \n",
       "43395      children          Urban              58.64  20.4     never smoked   \n",
       "43396      Govt_job          Urban             213.61  55.4  formerly smoked   \n",
       "43397       Private          Urban              91.94  28.9  formerly smoked   \n",
       "43398       Private          Urban              99.16  33.2     never smoked   \n",
       "43399       Private          Urban              79.48  20.6     never smoked   \n",
       "\n",
       "      stroke  \n",
       "0         NO  \n",
       "1         NO  \n",
       "2         NO  \n",
       "3         NO  \n",
       "4         NO  \n",
       "...      ...  \n",
       "43395     NO  \n",
       "43396     NO  \n",
       "43397     NO  \n",
       "43398     NO  \n",
       "43399     NO  \n",
       "\n",
       "[43400 rows x 12 columns]"
      ]
     },
     "execution_count": 62,
     "metadata": {},
     "output_type": "execute_result"
    }
   ],
   "source": [
    "data"
   ]
  },
  {
   "cell_type": "code",
   "execution_count": 65,
   "id": "2126b5e9-028b-47e9-a06b-5aace876a781",
   "metadata": {},
   "outputs": [
    {
     "data": {
      "text/plain": [
       "id                   0\n",
       "gender               0\n",
       "age                  0\n",
       "hypertension         0\n",
       "heart_disease        0\n",
       "ever_married         0\n",
       "work_type            0\n",
       "Residence_type       0\n",
       "avg_glucose_level    0\n",
       "bmi                  0\n",
       "smoking_status       0\n",
       "stroke               0\n",
       "dtype: int64"
      ]
     },
     "execution_count": 65,
     "metadata": {},
     "output_type": "execute_result"
    }
   ],
   "source": [
    "# Cheaking Missing (NaN) Values:\n",
    "data.isnull().sum()"
   ]
  },
  {
   "cell_type": "code",
   "execution_count": 12,
   "id": "470836b8-b078-4757-bedf-a77a104a68d3",
   "metadata": {},
   "outputs": [],
   "source": [
    "data['hypertension'] = data['hypertension'].replace({0:'NO',1:'YES'})"
   ]
  },
  {
   "cell_type": "code",
   "execution_count": 13,
   "id": "2262513d-c80c-442a-a0b0-d4e3eac07bf8",
   "metadata": {},
   "outputs": [],
   "source": [
    "data['heart_disease'] = data['heart_disease'].replace({0:'NO',1:'YES'})"
   ]
  },
  {
   "cell_type": "code",
   "execution_count": 14,
   "id": "9ed2736a-37ab-4102-96c2-857a59b1e34e",
   "metadata": {},
   "outputs": [],
   "source": [
    "data['stroke'] = data['stroke'].replace({0:'NO',1:'YES'})"
   ]
  },
  {
   "cell_type": "code",
   "execution_count": 15,
   "id": "a19a5e85-d0e7-470f-bcb7-9c34b93fd590",
   "metadata": {},
   "outputs": [
    {
     "data": {
      "text/plain": [
       "Index(['id', 'gender', 'age', 'hypertension', 'heart_disease', 'ever_married',\n",
       "       'work_type', 'Residence_type', 'avg_glucose_level', 'bmi',\n",
       "       'smoking_status', 'stroke'],\n",
       "      dtype='object')"
      ]
     },
     "execution_count": 15,
     "metadata": {},
     "output_type": "execute_result"
    }
   ],
   "source": [
    "data.columns"
   ]
  },
  {
   "cell_type": "code",
   "execution_count": 66,
   "id": "8c566b77-c9a0-4ec1-94aa-48dd04dd198c",
   "metadata": {},
   "outputs": [],
   "source": [
    "data.to_csv('stroke_predictionf.csv', index=False)"
   ]
  },
  {
   "cell_type": "code",
   "execution_count": 44,
   "id": "8d71ef75-ccc0-48c8-a9e3-e7ec06bc09b1",
   "metadata": {},
   "outputs": [],
   "source": [
    "continous=['id','avg_glucose_level','bmi']\n",
    "\n",
    "discrete_categorical =['gender','hypertension','heart_disease','ever_married','work_type','Residence_type','smoking_status','stroke','age']\n",
    "\n"
   ]
  },
  {
   "cell_type": "code",
   "execution_count": 17,
   "id": "58326d7c-43a7-4252-8b5e-86174798eb83",
   "metadata": {},
   "outputs": [
    {
     "name": "stdout",
     "output_type": "stream",
     "text": [
      "<class 'pandas.core.frame.DataFrame'>\n",
      "RangeIndex: 43400 entries, 0 to 43399\n",
      "Data columns (total 12 columns):\n",
      " #   Column             Non-Null Count  Dtype   \n",
      "---  ------             --------------  -----   \n",
      " 0   id                 43400 non-null  int64   \n",
      " 1   gender             43400 non-null  object  \n",
      " 2   age                43400 non-null  category\n",
      " 3   hypertension       43400 non-null  object  \n",
      " 4   heart_disease      43400 non-null  object  \n",
      " 5   ever_married       43400 non-null  object  \n",
      " 6   work_type          43400 non-null  object  \n",
      " 7   Residence_type     43400 non-null  object  \n",
      " 8   avg_glucose_level  43400 non-null  float64 \n",
      " 9   bmi                41938 non-null  float64 \n",
      " 10  smoking_status     30108 non-null  object  \n",
      " 11  stroke             43400 non-null  object  \n",
      "dtypes: category(1), float64(2), int64(1), object(8)\n",
      "memory usage: 3.7+ MB\n"
     ]
    }
   ],
   "source": [
    "data.info()"
   ]
  },
  {
   "cell_type": "code",
   "execution_count": 63,
   "id": "3d2072b2-2a71-4eb7-9c90-d7f63b96e84b",
   "metadata": {},
   "outputs": [
    {
     "data": {
      "text/html": [
       "<div>\n",
       "<style scoped>\n",
       "    .dataframe tbody tr th:only-of-type {\n",
       "        vertical-align: middle;\n",
       "    }\n",
       "\n",
       "    .dataframe tbody tr th {\n",
       "        vertical-align: top;\n",
       "    }\n",
       "\n",
       "    .dataframe thead th {\n",
       "        text-align: right;\n",
       "    }\n",
       "</style>\n",
       "<table border=\"1\" class=\"dataframe\">\n",
       "  <thead>\n",
       "    <tr style=\"text-align: right;\">\n",
       "      <th></th>\n",
       "      <th>id</th>\n",
       "      <th>avg_glucose_level</th>\n",
       "      <th>bmi</th>\n",
       "    </tr>\n",
       "  </thead>\n",
       "  <tbody>\n",
       "    <tr>\n",
       "      <th>count</th>\n",
       "      <td>43400.000000</td>\n",
       "      <td>43400.000000</td>\n",
       "      <td>43400.000000</td>\n",
       "    </tr>\n",
       "    <tr>\n",
       "      <th>mean</th>\n",
       "      <td>36326.142350</td>\n",
       "      <td>104.482750</td>\n",
       "      <td>28.605038</td>\n",
       "    </tr>\n",
       "    <tr>\n",
       "      <th>std</th>\n",
       "      <td>21072.134879</td>\n",
       "      <td>43.111751</td>\n",
       "      <td>7.638023</td>\n",
       "    </tr>\n",
       "    <tr>\n",
       "      <th>min</th>\n",
       "      <td>1.000000</td>\n",
       "      <td>55.000000</td>\n",
       "      <td>10.100000</td>\n",
       "    </tr>\n",
       "    <tr>\n",
       "      <th>25%</th>\n",
       "      <td>18038.500000</td>\n",
       "      <td>77.540000</td>\n",
       "      <td>23.400000</td>\n",
       "    </tr>\n",
       "    <tr>\n",
       "      <th>50%</th>\n",
       "      <td>36351.500000</td>\n",
       "      <td>91.580000</td>\n",
       "      <td>28.100000</td>\n",
       "    </tr>\n",
       "    <tr>\n",
       "      <th>75%</th>\n",
       "      <td>54514.250000</td>\n",
       "      <td>112.070000</td>\n",
       "      <td>32.600000</td>\n",
       "    </tr>\n",
       "    <tr>\n",
       "      <th>max</th>\n",
       "      <td>72943.000000</td>\n",
       "      <td>291.050000</td>\n",
       "      <td>97.600000</td>\n",
       "    </tr>\n",
       "  </tbody>\n",
       "</table>\n",
       "</div>"
      ],
      "text/plain": [
       "                 id  avg_glucose_level           bmi\n",
       "count  43400.000000       43400.000000  43400.000000\n",
       "mean   36326.142350         104.482750     28.605038\n",
       "std    21072.134879          43.111751      7.638023\n",
       "min        1.000000          55.000000     10.100000\n",
       "25%    18038.500000          77.540000     23.400000\n",
       "50%    36351.500000          91.580000     28.100000\n",
       "75%    54514.250000         112.070000     32.600000\n",
       "max    72943.000000         291.050000     97.600000"
      ]
     },
     "execution_count": 63,
     "metadata": {},
     "output_type": "execute_result"
    }
   ],
   "source": [
    "data[continous].describe()"
   ]
  },
  {
   "cell_type": "code",
   "execution_count": 64,
   "id": "41c499b1-e767-4eca-874c-27b0360577ce",
   "metadata": {},
   "outputs": [
    {
     "data": {
      "text/html": [
       "<div>\n",
       "<style scoped>\n",
       "    .dataframe tbody tr th:only-of-type {\n",
       "        vertical-align: middle;\n",
       "    }\n",
       "\n",
       "    .dataframe tbody tr th {\n",
       "        vertical-align: top;\n",
       "    }\n",
       "\n",
       "    .dataframe thead th {\n",
       "        text-align: right;\n",
       "    }\n",
       "</style>\n",
       "<table border=\"1\" class=\"dataframe\">\n",
       "  <thead>\n",
       "    <tr style=\"text-align: right;\">\n",
       "      <th></th>\n",
       "      <th>gender</th>\n",
       "      <th>hypertension</th>\n",
       "      <th>heart_disease</th>\n",
       "      <th>ever_married</th>\n",
       "      <th>work_type</th>\n",
       "      <th>Residence_type</th>\n",
       "      <th>smoking_status</th>\n",
       "      <th>stroke</th>\n",
       "      <th>age</th>\n",
       "    </tr>\n",
       "  </thead>\n",
       "  <tbody>\n",
       "    <tr>\n",
       "      <th>count</th>\n",
       "      <td>43400</td>\n",
       "      <td>43400</td>\n",
       "      <td>43400</td>\n",
       "      <td>43400</td>\n",
       "      <td>43400</td>\n",
       "      <td>43400</td>\n",
       "      <td>43400</td>\n",
       "      <td>43400</td>\n",
       "      <td>43400</td>\n",
       "    </tr>\n",
       "    <tr>\n",
       "      <th>unique</th>\n",
       "      <td>3</td>\n",
       "      <td>2</td>\n",
       "      <td>2</td>\n",
       "      <td>2</td>\n",
       "      <td>5</td>\n",
       "      <td>2</td>\n",
       "      <td>3</td>\n",
       "      <td>2</td>\n",
       "      <td>5</td>\n",
       "    </tr>\n",
       "    <tr>\n",
       "      <th>top</th>\n",
       "      <td>Female</td>\n",
       "      <td>NO</td>\n",
       "      <td>NO</td>\n",
       "      <td>Yes</td>\n",
       "      <td>Private</td>\n",
       "      <td>Urban</td>\n",
       "      <td>never smoked</td>\n",
       "      <td>NO</td>\n",
       "      <td>middle_aged</td>\n",
       "    </tr>\n",
       "    <tr>\n",
       "      <th>freq</th>\n",
       "      <td>25665</td>\n",
       "      <td>39339</td>\n",
       "      <td>41338</td>\n",
       "      <td>27938</td>\n",
       "      <td>24834</td>\n",
       "      <td>21756</td>\n",
       "      <td>29345</td>\n",
       "      <td>42617</td>\n",
       "      <td>18653</td>\n",
       "    </tr>\n",
       "  </tbody>\n",
       "</table>\n",
       "</div>"
      ],
      "text/plain": [
       "        gender hypertension heart_disease ever_married work_type  \\\n",
       "count    43400        43400         43400        43400     43400   \n",
       "unique       3            2             2            2         5   \n",
       "top     Female           NO            NO          Yes   Private   \n",
       "freq     25665        39339         41338        27938     24834   \n",
       "\n",
       "       Residence_type smoking_status stroke          age  \n",
       "count           43400          43400  43400        43400  \n",
       "unique              2              3      2            5  \n",
       "top             Urban   never smoked     NO  middle_aged  \n",
       "freq            21756          29345  42617        18653  "
      ]
     },
     "execution_count": 64,
     "metadata": {},
     "output_type": "execute_result"
    }
   ],
   "source": [
    "data[discrete_categorical].describe()"
   ]
  },
  {
   "cell_type": "code",
   "execution_count": 14,
   "id": "861e607a-faba-4fee-b1c6-56a556458c79",
   "metadata": {},
   "outputs": [
    {
     "data": {
      "text/plain": [
       "array([30669, 30468, 16523, ..., 28375, 27973, 36271], dtype=int64)"
      ]
     },
     "execution_count": 14,
     "metadata": {},
     "output_type": "execute_result"
    }
   ],
   "source": [
    "data['id'].unique()"
   ]
  },
  {
   "cell_type": "code",
   "execution_count": 15,
   "id": "e25de944-32dc-4684-8761-71b3733a3554",
   "metadata": {},
   "outputs": [
    {
     "data": {
      "text/plain": [
       "id\n",
       "30669    1\n",
       "20384    1\n",
       "44344    1\n",
       "13843    1\n",
       "10813    1\n",
       "        ..\n",
       "64649    1\n",
       "13377    1\n",
       "64545    1\n",
       "52084    1\n",
       "36271    1\n",
       "Name: count, Length: 43400, dtype: int64"
      ]
     },
     "execution_count": 15,
     "metadata": {},
     "output_type": "execute_result"
    }
   ],
   "source": [
    "data['id'].value_counts()"
   ]
  },
  {
   "cell_type": "code",
   "execution_count": 19,
   "id": "c1cc3d01-e5cc-4b7e-80b0-c7394a05755c",
   "metadata": {},
   "outputs": [
    {
     "data": {
      "text/plain": [
       "array(['Male', 'Female', 'Transgender'], dtype=object)"
      ]
     },
     "execution_count": 19,
     "metadata": {},
     "output_type": "execute_result"
    }
   ],
   "source": [
    "data['gender'].unique()"
   ]
  },
  {
   "cell_type": "code",
   "execution_count": 20,
   "id": "72acf976-a8e3-45c4-92a9-c58a4b4e7e3a",
   "metadata": {},
   "outputs": [
    {
     "data": {
      "text/plain": [
       "gender\n",
       "Female         25665\n",
       "Male           17724\n",
       "Transgender       11\n",
       "Name: count, dtype: int64"
      ]
     },
     "execution_count": 20,
     "metadata": {},
     "output_type": "execute_result"
    }
   ],
   "source": [
    "data['gender'].value_counts()"
   ]
  },
  {
   "cell_type": "code",
   "execution_count": null,
   "id": "459430d3-2fd4-4435-a1ad-9cc710cfaad5",
   "metadata": {},
   "outputs": [],
   "source": [
    "crosstab_result = pd.crosstab(df['column1'], df['column2'])"
   ]
  },
  {
   "cell_type": "code",
   "execution_count": 69,
   "id": "69cc0f3e-f230-4497-9d2b-8ed75ab68abf",
   "metadata": {},
   "outputs": [
    {
     "data": {
      "text/html": [
       "<div>\n",
       "<style scoped>\n",
       "    .dataframe tbody tr th:only-of-type {\n",
       "        vertical-align: middle;\n",
       "    }\n",
       "\n",
       "    .dataframe tbody tr th {\n",
       "        vertical-align: top;\n",
       "    }\n",
       "\n",
       "    .dataframe thead th {\n",
       "        text-align: right;\n",
       "    }\n",
       "</style>\n",
       "<table border=\"1\" class=\"dataframe\">\n",
       "  <thead>\n",
       "    <tr style=\"text-align: right;\">\n",
       "      <th>stroke</th>\n",
       "      <th>NO</th>\n",
       "      <th>YES</th>\n",
       "    </tr>\n",
       "    <tr>\n",
       "      <th>gender</th>\n",
       "      <th></th>\n",
       "      <th></th>\n",
       "    </tr>\n",
       "  </thead>\n",
       "  <tbody>\n",
       "    <tr>\n",
       "      <th>Female</th>\n",
       "      <td>25234</td>\n",
       "      <td>431</td>\n",
       "    </tr>\n",
       "    <tr>\n",
       "      <th>Male</th>\n",
       "      <td>17372</td>\n",
       "      <td>352</td>\n",
       "    </tr>\n",
       "    <tr>\n",
       "      <th>Transgender</th>\n",
       "      <td>11</td>\n",
       "      <td>0</td>\n",
       "    </tr>\n",
       "  </tbody>\n",
       "</table>\n",
       "</div>"
      ],
      "text/plain": [
       "stroke          NO  YES\n",
       "gender                 \n",
       "Female       25234  431\n",
       "Male         17372  352\n",
       "Transgender     11    0"
      ]
     },
     "execution_count": 69,
     "metadata": {},
     "output_type": "execute_result"
    }
   ],
   "source": [
    "pd.crosstab(data['gender'],data['stroke'])"
   ]
  },
  {
   "cell_type": "code",
   "execution_count": 70,
   "id": "da34c07b-31bb-44f3-8774-ca160b1ae565",
   "metadata": {},
   "outputs": [
    {
     "data": {
      "text/html": [
       "<div>\n",
       "<style scoped>\n",
       "    .dataframe tbody tr th:only-of-type {\n",
       "        vertical-align: middle;\n",
       "    }\n",
       "\n",
       "    .dataframe tbody tr th {\n",
       "        vertical-align: top;\n",
       "    }\n",
       "\n",
       "    .dataframe thead th {\n",
       "        text-align: right;\n",
       "    }\n",
       "</style>\n",
       "<table border=\"1\" class=\"dataframe\">\n",
       "  <thead>\n",
       "    <tr style=\"text-align: right;\">\n",
       "      <th>stroke</th>\n",
       "      <th>NO</th>\n",
       "      <th>YES</th>\n",
       "    </tr>\n",
       "    <tr>\n",
       "      <th>age</th>\n",
       "      <th></th>\n",
       "      <th></th>\n",
       "    </tr>\n",
       "  </thead>\n",
       "  <tbody>\n",
       "    <tr>\n",
       "      <th>child</th>\n",
       "      <td>5325</td>\n",
       "      <td>1</td>\n",
       "    </tr>\n",
       "    <tr>\n",
       "      <th>teenger</th>\n",
       "      <td>3184</td>\n",
       "      <td>1</td>\n",
       "    </tr>\n",
       "    <tr>\n",
       "      <th>young_adult</th>\n",
       "      <td>5723</td>\n",
       "      <td>2</td>\n",
       "    </tr>\n",
       "    <tr>\n",
       "      <th>middle_aged</th>\n",
       "      <td>18453</td>\n",
       "      <td>200</td>\n",
       "    </tr>\n",
       "    <tr>\n",
       "      <th>senior_citizen</th>\n",
       "      <td>9932</td>\n",
       "      <td>579</td>\n",
       "    </tr>\n",
       "  </tbody>\n",
       "</table>\n",
       "</div>"
      ],
      "text/plain": [
       "stroke             NO  YES\n",
       "age                       \n",
       "child            5325    1\n",
       "teenger          3184    1\n",
       "young_adult      5723    2\n",
       "middle_aged     18453  200\n",
       "senior_citizen   9932  579"
      ]
     },
     "execution_count": 70,
     "metadata": {},
     "output_type": "execute_result"
    }
   ],
   "source": [
    "pd.crosstab(data['age'],data['stroke'])"
   ]
  },
  {
   "cell_type": "code",
   "execution_count": 71,
   "id": "beac3e4a-e133-4e4e-addb-4f29053ba6db",
   "metadata": {},
   "outputs": [
    {
     "data": {
      "text/html": [
       "<div>\n",
       "<style scoped>\n",
       "    .dataframe tbody tr th:only-of-type {\n",
       "        vertical-align: middle;\n",
       "    }\n",
       "\n",
       "    .dataframe tbody tr th {\n",
       "        vertical-align: top;\n",
       "    }\n",
       "\n",
       "    .dataframe thead th {\n",
       "        text-align: right;\n",
       "    }\n",
       "</style>\n",
       "<table border=\"1\" class=\"dataframe\">\n",
       "  <thead>\n",
       "    <tr style=\"text-align: right;\">\n",
       "      <th>stroke</th>\n",
       "      <th>NO</th>\n",
       "      <th>YES</th>\n",
       "    </tr>\n",
       "    <tr>\n",
       "      <th>ever_married</th>\n",
       "      <th></th>\n",
       "      <th></th>\n",
       "    </tr>\n",
       "  </thead>\n",
       "  <tbody>\n",
       "    <tr>\n",
       "      <th>No</th>\n",
       "      <td>15382</td>\n",
       "      <td>80</td>\n",
       "    </tr>\n",
       "    <tr>\n",
       "      <th>Yes</th>\n",
       "      <td>27235</td>\n",
       "      <td>703</td>\n",
       "    </tr>\n",
       "  </tbody>\n",
       "</table>\n",
       "</div>"
      ],
      "text/plain": [
       "stroke           NO  YES\n",
       "ever_married            \n",
       "No            15382   80\n",
       "Yes           27235  703"
      ]
     },
     "execution_count": 71,
     "metadata": {},
     "output_type": "execute_result"
    }
   ],
   "source": [
    "pd.crosstab(data['ever_married'],data['stroke'])"
   ]
  },
  {
   "cell_type": "code",
   "execution_count": 74,
   "id": "185e59a4-3e62-4208-8be3-cc415f848546",
   "metadata": {},
   "outputs": [
    {
     "data": {
      "text/html": [
       "<div>\n",
       "<style scoped>\n",
       "    .dataframe tbody tr th:only-of-type {\n",
       "        vertical-align: middle;\n",
       "    }\n",
       "\n",
       "    .dataframe tbody tr th {\n",
       "        vertical-align: top;\n",
       "    }\n",
       "\n",
       "    .dataframe thead th {\n",
       "        text-align: right;\n",
       "    }\n",
       "</style>\n",
       "<table border=\"1\" class=\"dataframe\">\n",
       "  <thead>\n",
       "    <tr style=\"text-align: right;\">\n",
       "      <th>stroke</th>\n",
       "      <th>NO</th>\n",
       "      <th>YES</th>\n",
       "    </tr>\n",
       "    <tr>\n",
       "      <th>heart_disease</th>\n",
       "      <th></th>\n",
       "      <th></th>\n",
       "    </tr>\n",
       "  </thead>\n",
       "  <tbody>\n",
       "    <tr>\n",
       "      <th>NO</th>\n",
       "      <td>40732</td>\n",
       "      <td>606</td>\n",
       "    </tr>\n",
       "    <tr>\n",
       "      <th>YES</th>\n",
       "      <td>1885</td>\n",
       "      <td>177</td>\n",
       "    </tr>\n",
       "  </tbody>\n",
       "</table>\n",
       "</div>"
      ],
      "text/plain": [
       "stroke            NO  YES\n",
       "heart_disease            \n",
       "NO             40732  606\n",
       "YES             1885  177"
      ]
     },
     "execution_count": 74,
     "metadata": {},
     "output_type": "execute_result"
    }
   ],
   "source": [
    "pd.crosstab(data['heart_disease'],data['stroke'])"
   ]
  },
  {
   "cell_type": "code",
   "execution_count": 75,
   "id": "ab8df14f-99cb-4781-9119-3365dfaffe51",
   "metadata": {},
   "outputs": [
    {
     "data": {
      "text/html": [
       "<div>\n",
       "<style scoped>\n",
       "    .dataframe tbody tr th:only-of-type {\n",
       "        vertical-align: middle;\n",
       "    }\n",
       "\n",
       "    .dataframe tbody tr th {\n",
       "        vertical-align: top;\n",
       "    }\n",
       "\n",
       "    .dataframe thead th {\n",
       "        text-align: right;\n",
       "    }\n",
       "</style>\n",
       "<table border=\"1\" class=\"dataframe\">\n",
       "  <thead>\n",
       "    <tr style=\"text-align: right;\">\n",
       "      <th>stroke</th>\n",
       "      <th>NO</th>\n",
       "      <th>YES</th>\n",
       "    </tr>\n",
       "    <tr>\n",
       "      <th>work_type</th>\n",
       "      <th></th>\n",
       "      <th></th>\n",
       "    </tr>\n",
       "  </thead>\n",
       "  <tbody>\n",
       "    <tr>\n",
       "      <th>Govt_job</th>\n",
       "      <td>5351</td>\n",
       "      <td>89</td>\n",
       "    </tr>\n",
       "    <tr>\n",
       "      <th>Never_worked</th>\n",
       "      <td>177</td>\n",
       "      <td>0</td>\n",
       "    </tr>\n",
       "    <tr>\n",
       "      <th>Private</th>\n",
       "      <td>24393</td>\n",
       "      <td>441</td>\n",
       "    </tr>\n",
       "    <tr>\n",
       "      <th>Self_employed</th>\n",
       "      <td>6542</td>\n",
       "      <td>251</td>\n",
       "    </tr>\n",
       "    <tr>\n",
       "      <th>children</th>\n",
       "      <td>6154</td>\n",
       "      <td>2</td>\n",
       "    </tr>\n",
       "  </tbody>\n",
       "</table>\n",
       "</div>"
      ],
      "text/plain": [
       "stroke            NO  YES\n",
       "work_type                \n",
       "Govt_job        5351   89\n",
       "Never_worked     177    0\n",
       "Private        24393  441\n",
       "Self_employed   6542  251\n",
       "children        6154    2"
      ]
     },
     "execution_count": 75,
     "metadata": {},
     "output_type": "execute_result"
    }
   ],
   "source": [
    "pd.crosstab(data['work_type'],data['stroke'])"
   ]
  },
  {
   "cell_type": "code",
   "execution_count": 76,
   "id": "3b7e3437-2260-4ad5-a470-19bb39508461",
   "metadata": {},
   "outputs": [
    {
     "data": {
      "text/html": [
       "<div>\n",
       "<style scoped>\n",
       "    .dataframe tbody tr th:only-of-type {\n",
       "        vertical-align: middle;\n",
       "    }\n",
       "\n",
       "    .dataframe tbody tr th {\n",
       "        vertical-align: top;\n",
       "    }\n",
       "\n",
       "    .dataframe thead th {\n",
       "        text-align: right;\n",
       "    }\n",
       "</style>\n",
       "<table border=\"1\" class=\"dataframe\">\n",
       "  <thead>\n",
       "    <tr style=\"text-align: right;\">\n",
       "      <th>stroke</th>\n",
       "      <th>NO</th>\n",
       "      <th>YES</th>\n",
       "    </tr>\n",
       "    <tr>\n",
       "      <th>Residence_type</th>\n",
       "      <th></th>\n",
       "      <th></th>\n",
       "    </tr>\n",
       "  </thead>\n",
       "  <tbody>\n",
       "    <tr>\n",
       "      <th>Rural</th>\n",
       "      <td>21260</td>\n",
       "      <td>384</td>\n",
       "    </tr>\n",
       "    <tr>\n",
       "      <th>Urban</th>\n",
       "      <td>21357</td>\n",
       "      <td>399</td>\n",
       "    </tr>\n",
       "  </tbody>\n",
       "</table>\n",
       "</div>"
      ],
      "text/plain": [
       "stroke             NO  YES\n",
       "Residence_type            \n",
       "Rural           21260  384\n",
       "Urban           21357  399"
      ]
     },
     "execution_count": 76,
     "metadata": {},
     "output_type": "execute_result"
    }
   ],
   "source": [
    "pd.crosstab(data['Residence_type'],data['stroke'])"
   ]
  },
  {
   "cell_type": "code",
   "execution_count": 77,
   "id": "6c57631d-884e-41b1-b22e-c53ae0468957",
   "metadata": {},
   "outputs": [
    {
     "data": {
      "text/html": [
       "<div>\n",
       "<style scoped>\n",
       "    .dataframe tbody tr th:only-of-type {\n",
       "        vertical-align: middle;\n",
       "    }\n",
       "\n",
       "    .dataframe tbody tr th {\n",
       "        vertical-align: top;\n",
       "    }\n",
       "\n",
       "    .dataframe thead th {\n",
       "        text-align: right;\n",
       "    }\n",
       "</style>\n",
       "<table border=\"1\" class=\"dataframe\">\n",
       "  <thead>\n",
       "    <tr style=\"text-align: right;\">\n",
       "      <th>stroke</th>\n",
       "      <th>NO</th>\n",
       "      <th>YES</th>\n",
       "    </tr>\n",
       "    <tr>\n",
       "      <th>smoking_status</th>\n",
       "      <th></th>\n",
       "      <th></th>\n",
       "    </tr>\n",
       "  </thead>\n",
       "  <tbody>\n",
       "    <tr>\n",
       "      <th>formerly smoked</th>\n",
       "      <td>7272</td>\n",
       "      <td>221</td>\n",
       "    </tr>\n",
       "    <tr>\n",
       "      <th>never smoked</th>\n",
       "      <td>28916</td>\n",
       "      <td>429</td>\n",
       "    </tr>\n",
       "    <tr>\n",
       "      <th>smokes</th>\n",
       "      <td>6429</td>\n",
       "      <td>133</td>\n",
       "    </tr>\n",
       "  </tbody>\n",
       "</table>\n",
       "</div>"
      ],
      "text/plain": [
       "stroke              NO  YES\n",
       "smoking_status             \n",
       "formerly smoked   7272  221\n",
       "never smoked     28916  429\n",
       "smokes            6429  133"
      ]
     },
     "execution_count": 77,
     "metadata": {},
     "output_type": "execute_result"
    }
   ],
   "source": [
    "pd.crosstab(data['smoking_status'],data['stroke'])"
   ]
  },
  {
   "cell_type": "code",
   "execution_count": 18,
   "id": "bbae9235-ff48-43ca-8061-e48e9cbc1a81",
   "metadata": {},
   "outputs": [],
   "source": [
    "data['gender'] = data['gender'].replace({'Other':'Transgender'})"
   ]
  },
  {
   "cell_type": "code",
   "execution_count": 21,
   "id": "6813edb5-23d2-45b5-84d7-3454e783e080",
   "metadata": {},
   "outputs": [
    {
     "data": {
      "text/plain": [
       "['child', 'middle_aged', 'senior_citizen', 'teenger', 'young_adult']\n",
       "Categories (5, object): ['child' < 'teenger' < 'young_adult' < 'middle_aged' < 'senior_citizen']"
      ]
     },
     "execution_count": 21,
     "metadata": {},
     "output_type": "execute_result"
    }
   ],
   "source": [
    "data['age'].unique()"
   ]
  },
  {
   "cell_type": "code",
   "execution_count": 22,
   "id": "b71fa610-f4ce-46fb-be3d-347985c8d77f",
   "metadata": {},
   "outputs": [
    {
     "data": {
      "text/plain": [
       "age\n",
       "middle_aged       18653\n",
       "senior_citizen    10511\n",
       "young_adult        5725\n",
       "child              5326\n",
       "teenger            3185\n",
       "Name: count, dtype: int64"
      ]
     },
     "execution_count": 22,
     "metadata": {},
     "output_type": "execute_result"
    }
   ],
   "source": [
    "data['age'].value_counts()"
   ]
  },
  {
   "cell_type": "code",
   "execution_count": 7,
   "id": "e5c58af9-d43b-42c3-b146-4551d918a5fa",
   "metadata": {},
   "outputs": [],
   "source": [
    "data['age']=pd.cut(data['age'],\n",
    "                   bins=[0,12,19,30,60,90],\n",
    "                labels=['child','teenger','young_adult','middle_aged','senior_citizen'])"
   ]
  },
  {
   "cell_type": "code",
   "execution_count": 23,
   "id": "bae2e977-9891-4137-a3bd-85c7e7dc3d11",
   "metadata": {},
   "outputs": [
    {
     "data": {
      "text/plain": [
       "array(['NO', 'YES'], dtype=object)"
      ]
     },
     "execution_count": 23,
     "metadata": {},
     "output_type": "execute_result"
    }
   ],
   "source": [
    "data['hypertension'].unique()"
   ]
  },
  {
   "cell_type": "code",
   "execution_count": 24,
   "id": "0b4c843b-a85a-4504-866b-39572291850c",
   "metadata": {},
   "outputs": [
    {
     "data": {
      "text/plain": [
       "hypertension\n",
       "NO     39339\n",
       "YES     4061\n",
       "Name: count, dtype: int64"
      ]
     },
     "execution_count": 24,
     "metadata": {},
     "output_type": "execute_result"
    }
   ],
   "source": [
    "data['hypertension'].value_counts()"
   ]
  },
  {
   "cell_type": "code",
   "execution_count": 25,
   "id": "23f90c89-10c9-4710-a1ad-e6a036b62b35",
   "metadata": {},
   "outputs": [
    {
     "data": {
      "text/plain": [
       "array(['NO', 'YES'], dtype=object)"
      ]
     },
     "execution_count": 25,
     "metadata": {},
     "output_type": "execute_result"
    }
   ],
   "source": [
    "data['heart_disease'].unique()"
   ]
  },
  {
   "cell_type": "code",
   "execution_count": 26,
   "id": "cbe7e088-4e02-400b-be8a-d27171bf4c19",
   "metadata": {},
   "outputs": [
    {
     "data": {
      "text/plain": [
       "heart_disease\n",
       "NO     41338\n",
       "YES     2062\n",
       "Name: count, dtype: int64"
      ]
     },
     "execution_count": 26,
     "metadata": {},
     "output_type": "execute_result"
    }
   ],
   "source": [
    "data['heart_disease'].value_counts()"
   ]
  },
  {
   "cell_type": "code",
   "execution_count": 27,
   "id": "bce609e3-54dd-47b6-b41b-e2cd83d716b9",
   "metadata": {},
   "outputs": [
    {
     "data": {
      "text/plain": [
       "array(['No', 'Yes'], dtype=object)"
      ]
     },
     "execution_count": 27,
     "metadata": {},
     "output_type": "execute_result"
    }
   ],
   "source": [
    "data['ever_married'].unique()"
   ]
  },
  {
   "cell_type": "code",
   "execution_count": 28,
   "id": "28dfd2e5-2196-45f7-be87-85f310a6199b",
   "metadata": {},
   "outputs": [
    {
     "data": {
      "text/plain": [
       "ever_married\n",
       "Yes    27938\n",
       "No     15462\n",
       "Name: count, dtype: int64"
      ]
     },
     "execution_count": 28,
     "metadata": {},
     "output_type": "execute_result"
    }
   ],
   "source": [
    "data['ever_married'].value_counts()"
   ]
  },
  {
   "cell_type": "code",
   "execution_count": 31,
   "id": "41d86e6f-d093-4359-a144-5d6e5a1da840",
   "metadata": {},
   "outputs": [
    {
     "data": {
      "text/plain": [
       "array(['children', 'Private', 'Never_worked', 'Self_employed', 'Govt_job'],\n",
       "      dtype=object)"
      ]
     },
     "execution_count": 31,
     "metadata": {},
     "output_type": "execute_result"
    }
   ],
   "source": [
    "data['work_type'].unique()"
   ]
  },
  {
   "cell_type": "code",
   "execution_count": 32,
   "id": "7d5b32a2-143c-4fae-9c44-12642fbb59d8",
   "metadata": {},
   "outputs": [
    {
     "data": {
      "text/plain": [
       "work_type\n",
       "Private          24834\n",
       "Self_employed     6793\n",
       "children          6156\n",
       "Govt_job          5440\n",
       "Never_worked       177\n",
       "Name: count, dtype: int64"
      ]
     },
     "execution_count": 32,
     "metadata": {},
     "output_type": "execute_result"
    }
   ],
   "source": [
    "data['work_type'].value_counts()"
   ]
  },
  {
   "cell_type": "code",
   "execution_count": 30,
   "id": "ed197406-0476-419b-8b52-2b1bd7a28c8b",
   "metadata": {},
   "outputs": [],
   "source": [
    "data['work_type'] = data['work_type'].replace({'Self-employed':'Self_employed'})"
   ]
  },
  {
   "cell_type": "code",
   "execution_count": 33,
   "id": "36cbeda0-2c88-4507-892e-a8b3a3710a53",
   "metadata": {},
   "outputs": [
    {
     "data": {
      "text/plain": [
       "array(['Rural', 'Urban'], dtype=object)"
      ]
     },
     "execution_count": 33,
     "metadata": {},
     "output_type": "execute_result"
    }
   ],
   "source": [
    "data['Residence_type'].unique()"
   ]
  },
  {
   "cell_type": "code",
   "execution_count": 34,
   "id": "2d48de42-ccf9-43b0-aeab-ff164fc6480b",
   "metadata": {},
   "outputs": [
    {
     "data": {
      "text/plain": [
       "Residence_type\n",
       "Urban    21756\n",
       "Rural    21644\n",
       "Name: count, dtype: int64"
      ]
     },
     "execution_count": 34,
     "metadata": {},
     "output_type": "execute_result"
    }
   ],
   "source": [
    "data['Residence_type'].value_counts()"
   ]
  },
  {
   "cell_type": "code",
   "execution_count": 35,
   "id": "7af17f2f-ce58-4ef3-91dd-bb8c3b681edb",
   "metadata": {},
   "outputs": [
    {
     "data": {
      "text/plain": [
       "array([ 95.12,  87.96, 110.89, ..., 182.45, 121.45, 132.22])"
      ]
     },
     "execution_count": 35,
     "metadata": {},
     "output_type": "execute_result"
    }
   ],
   "source": [
    "data['avg_glucose_level'].unique()"
   ]
  },
  {
   "cell_type": "code",
   "execution_count": 36,
   "id": "ff410471-208a-42be-b9ad-bb1c92865fa5",
   "metadata": {},
   "outputs": [
    {
     "data": {
      "text/plain": [
       "avg_glucose_level\n",
       "82.71     19\n",
       "87.07     18\n",
       "72.53     18\n",
       "83.92     17\n",
       "84.49     17\n",
       "          ..\n",
       "144.15     1\n",
       "119.98     1\n",
       "188.26     1\n",
       "252.75     1\n",
       "132.22     1\n",
       "Name: count, Length: 12543, dtype: int64"
      ]
     },
     "execution_count": 36,
     "metadata": {},
     "output_type": "execute_result"
    }
   ],
   "source": [
    "data['avg_glucose_level'].value_counts()"
   ]
  },
  {
   "cell_type": "code",
   "execution_count": 56,
   "id": "bd594ee4-d7da-45f7-bbbf-d974d51655bd",
   "metadata": {},
   "outputs": [
    {
     "data": {
      "text/plain": [
       "array([18.        , 39.2       , 17.6       , 35.9       , 19.1       ,\n",
       "       50.1       , 17.7       , 27.        , 32.3       , 54.6       ,\n",
       "       35.        , 22.        , 39.4       , 26.1       , 42.4       ,\n",
       "       33.        , 19.7       , 22.5       , 24.6       , 25.2       ,\n",
       "       41.8       , 60.9       , 31.5       , 27.3       , 23.7       ,\n",
       "       24.5       , 28.4       , 26.9       , 26.7       , 31.2       ,\n",
       "       25.        , 25.4       , 27.5       , 16.        , 31.6       ,\n",
       "       25.1       , 30.9       , 24.8       , 23.4       , 29.4       ,\n",
       "       18.3       , 20.        , 19.5       , 36.        , 27.7       ,\n",
       "       28.5       , 26.8       , 33.6       , 29.1       , 34.9       ,\n",
       "       35.3       , 26.4       , 40.1       , 43.1       , 36.7       ,\n",
       "       29.3       , 21.2       , 36.6       , 21.4       , 27.9       ,\n",
       "       34.3       , 31.        , 38.7       , 27.6       , 16.5       ,\n",
       "       22.8       , 35.4       , 24.3       , 25.7       , 21.9       ,\n",
       "       28.60503839, 38.4       , 30.5       , 25.9       , 54.7       ,\n",
       "       29.9       , 18.6       , 27.1       , 24.9       , 19.4       ,\n",
       "       29.        , 48.2       , 34.6       , 25.8       , 27.2       ,\n",
       "       20.7       , 30.        , 37.3       , 34.1       , 23.6       ,\n",
       "       39.5       , 23.5       , 23.3       , 64.8       , 28.1       ,\n",
       "       24.4       , 29.8       , 35.1       , 43.6       , 21.        ,\n",
       "       47.3       , 16.6       , 37.5       , 24.2       , 21.6       ,\n",
       "       31.1       , 15.5       , 20.5       , 35.6       , 16.7       ,\n",
       "       41.9       , 16.4       , 17.1       , 29.2       , 37.9       ,\n",
       "       32.5       , 44.6       , 33.2       , 22.3       , 39.6       ,\n",
       "       37.8       , 40.3       , 41.5       , 41.6       , 23.8       ,\n",
       "       39.        , 23.2       , 18.9       , 36.1       , 36.3       ,\n",
       "       40.5       , 46.5       , 16.8       , 46.6       , 26.2       ,\n",
       "       35.2       , 20.9       , 36.8       , 34.4       , 22.2       ,\n",
       "       13.8       , 31.7       , 34.2       , 36.9       , 31.9       ,\n",
       "       31.8       , 29.5       , 28.8       , 28.9       , 15.3       ,\n",
       "       37.1       , 38.2       , 30.2       , 45.2       , 21.8       ,\n",
       "       17.        , 49.8       , 27.8       , 60.2       , 27.4       ,\n",
       "       22.9       , 26.6       , 23.        , 32.6       , 22.1       ,\n",
       "       25.5       , 31.4       , 26.        , 21.7       , 29.7       ,\n",
       "       44.3       , 51.        , 39.7       , 34.7       , 21.3       ,\n",
       "       23.9       , 41.2       , 30.7       , 34.8       , 19.2       ,\n",
       "       24.        , 35.7       , 35.8       , 40.8       , 24.7       ,\n",
       "       45.        , 28.3       , 19.        , 32.4       , 34.        ,\n",
       "       28.7       , 32.1       , 23.1       , 51.5       , 20.4       ,\n",
       "       29.6       , 30.6       , 71.9       , 22.6       , 26.5       ,\n",
       "       19.3       , 40.9       , 17.2       , 16.1       , 16.2       ,\n",
       "       32.        , 40.4       , 28.        , 40.6       , 18.4       ,\n",
       "       34.5       , 21.1       , 42.3       , 32.2       , 50.2       ,\n",
       "       17.5       , 30.8       , 18.7       , 42.1       , 32.8       ,\n",
       "       47.8       , 39.3       , 20.8       , 30.1       , 17.3       ,\n",
       "       36.4       , 25.3       , 12.        , 36.2       , 55.7       ,\n",
       "       14.4       , 43.        , 42.2       , 41.7       , 33.8       ,\n",
       "       43.9       , 22.7       , 25.6       , 57.5       , 37.        ,\n",
       "       38.5       , 16.3       , 20.3       , 41.1       , 44.        ,\n",
       "       32.7       , 54.2       , 40.2       , 33.3       , 17.4       ,\n",
       "       41.3       , 52.3       , 30.3       , 14.6       , 17.8       ,\n",
       "       46.1       , 32.9       , 33.1       , 18.1       , 43.8       ,\n",
       "       37.4       , 50.3       , 38.9       , 28.6       , 43.7       ,\n",
       "       39.9       , 15.9       , 35.5       , 20.1       , 31.3       ,\n",
       "       22.4       , 19.8       , 12.3       , 78.        , 38.3       ,\n",
       "       41.        , 42.6       , 43.4       , 15.1       , 20.6       ,\n",
       "       33.5       , 43.2       , 30.4       , 38.        , 33.4       ,\n",
       "       44.9       , 28.2       , 44.7       , 37.6       , 39.8       ,\n",
       "       53.4       , 55.2       , 42.        , 37.2       , 45.5       ,\n",
       "       42.8       , 24.1       , 18.8       , 42.9       , 14.3       ,\n",
       "       37.7       , 21.5       , 48.4       , 50.6       , 26.3       ,\n",
       "       46.2       , 49.5       , 43.3       , 33.9       , 18.5       ,\n",
       "       44.5       , 45.4       , 55.        , 54.8       , 33.7       ,\n",
       "       19.9       , 17.9       , 15.6       , 48.9       , 16.9       ,\n",
       "       36.5       , 47.5       , 52.8       , 38.6       , 15.2       ,\n",
       "       40.        , 66.8       , 55.1       , 18.2       , 48.5       ,\n",
       "       55.9       , 57.3       , 20.2       , 10.3       , 14.1       ,\n",
       "       15.7       , 56.        , 44.8       , 13.4       , 51.8       ,\n",
       "       38.1       , 57.7       , 44.4       , 38.8       , 44.2       ,\n",
       "       49.3       , 39.1       , 54.        , 56.1       , 97.6       ,\n",
       "       53.9       , 19.6       , 13.7       , 11.5       , 41.4       ,\n",
       "       14.2       , 49.4       , 15.4       , 45.1       , 49.2       ,\n",
       "       48.7       , 53.8       , 42.7       , 48.8       , 52.7       ,\n",
       "       53.5       , 50.5       , 15.8       , 45.3       , 46.        ,\n",
       "       14.8       , 51.9       , 63.3       , 40.7       , 45.9       ,\n",
       "       61.2       , 48.        , 46.8       , 48.3       , 58.1       ,\n",
       "       50.4       , 11.3       , 12.8       , 13.5       , 14.5       ,\n",
       "       15.        , 59.7       , 47.4       , 52.5       , 13.2       ,\n",
       "       52.9       , 61.6       , 49.9       , 54.3       , 47.9       ,\n",
       "       13.        , 13.9       , 50.9       , 57.2       , 64.4       ,\n",
       "       92.        , 50.8       , 57.9       , 45.8       , 47.6       ,\n",
       "       14.        , 46.4       , 46.9       , 47.1       , 13.3       ,\n",
       "       48.1       , 51.7       , 45.7       , 42.5       , 46.3       ,\n",
       "       54.1       , 14.9       , 56.6       , 44.1       , 60.        ,\n",
       "       46.7       , 69.8       , 51.1       , 14.7       , 11.7       ,\n",
       "       11.6       , 47.2       , 43.5       , 56.4       , 48.6       ,\n",
       "       51.6       , 89.1       , 10.6       , 45.6       , 61.        ,\n",
       "       64.2       , 55.8       , 52.4       , 57.        , 49.7       ,\n",
       "       52.6       , 12.7       , 63.8       , 66.3       , 62.2       ,\n",
       "       53.2       , 55.5       , 60.1       , 56.8       , 55.4       ,\n",
       "       47.7       , 54.9       , 56.5       , 49.1       , 68.6       ,\n",
       "       13.1       , 63.6       , 52.        , 56.7       , 57.1       ,\n",
       "       47.        , 58.4       , 49.6       , 51.3       , 51.4       ,\n",
       "       51.2       , 50.        , 54.4       , 64.9       , 63.2       ,\n",
       "       96.1       , 54.5       , 49.        , 53.        , 53.3       ,\n",
       "       12.4       , 11.2       , 58.9       , 13.6       , 53.6       ,\n",
       "       52.1       , 52.2       , 65.8       , 60.5       , 56.9       ,\n",
       "       55.3       , 12.9       , 11.        , 64.        , 58.2       ,\n",
       "       12.5       , 60.7       , 59.1       , 72.2       , 53.1       ,\n",
       "       10.8       , 63.        , 59.        , 62.3       , 61.8       ,\n",
       "       68.5       , 11.9       , 57.6       , 69.4       , 71.5       ,\n",
       "       60.3       , 59.2       , 61.9       , 58.7       , 10.5       ,\n",
       "       62.9       , 71.8       , 59.3       , 11.1       , 64.7       ,\n",
       "       12.1       , 65.7       , 61.1       , 60.6       , 58.6       ,\n",
       "       56.3       , 50.7       , 70.6       , 58.8       , 12.2       ,\n",
       "       65.3       , 70.3       , 62.        , 55.6       , 57.4       ,\n",
       "       59.9       , 57.8       , 68.        , 88.6       , 56.2       ,\n",
       "       10.1       , 58.3       , 80.1       , 65.2       , 11.4       ,\n",
       "       59.6       , 53.7       , 82.7       , 63.5       , 66.4       ,\n",
       "       58.5       , 64.1       , 80.2       , 65.5       , 65.9       ,\n",
       "       67.        , 71.7       , 58.        , 61.3       , 12.6       ,\n",
       "       89.        ])"
      ]
     },
     "execution_count": 56,
     "metadata": {},
     "output_type": "execute_result"
    }
   ],
   "source": [
    "data['bmi'].unique()"
   ]
  },
  {
   "cell_type": "code",
   "execution_count": 57,
   "id": "100a9df1-5533-4b30-ba32-29f1756c180b",
   "metadata": {},
   "outputs": [
    {
     "data": {
      "text/plain": [
       "bmi\n",
       "28.605038    1462\n",
       "27.700000     271\n",
       "27.600000     267\n",
       "26.800000     266\n",
       "26.100000     265\n",
       "             ... \n",
       "59.100000       1\n",
       "64.000000       1\n",
       "56.100000       1\n",
       "56.900000       1\n",
       "89.000000       1\n",
       "Name: count, Length: 556, dtype: int64"
      ]
     },
     "execution_count": 57,
     "metadata": {},
     "output_type": "execute_result"
    }
   ],
   "source": [
    "data['bmi'].value_counts()"
   ]
  },
  {
   "cell_type": "code",
   "execution_count": null,
   "id": "4e43ddef-6aa3-46f9-83ef-1c2a30a12533",
   "metadata": {},
   "outputs": [],
   "source": [
    "pd.crosstab(data['age'],data['stroke'])"
   ]
  },
  {
   "cell_type": "code",
   "execution_count": 51,
   "id": "0a9e8203-a9f7-4dcd-b010-0b598b1f614f",
   "metadata": {},
   "outputs": [
    {
     "data": {
      "text/plain": [
       "array(['never smoked', 'formerly smoked', 'smokes'], dtype=object)"
      ]
     },
     "execution_count": 51,
     "metadata": {},
     "output_type": "execute_result"
    }
   ],
   "source": [
    "data['smoking_status'].unique()"
   ]
  },
  {
   "cell_type": "code",
   "execution_count": null,
   "id": "d6a97d67-5c37-40cd-a72b-72e869071e15",
   "metadata": {},
   "outputs": [],
   "source": [
    "# missing values Treatment"
   ]
  },
  {
   "cell_type": "code",
   "execution_count": 50,
   "id": "bf80542a-6cae-4c13-b56f-eb4f86a5cc90",
   "metadata": {},
   "outputs": [],
   "source": [
    "data['smoking_status']=data['smoking_status'].fillna(data['smoking_status'].mode()[0])"
   ]
  },
  {
   "cell_type": "code",
   "execution_count": 61,
   "id": "744ec077-f45a-4207-84f9-ab17b940f321",
   "metadata": {},
   "outputs": [],
   "source": [
    "data['bmi'] = data['bmi'].fillna(data['bmi'].median())"
   ]
  },
  {
   "cell_type": "code",
   "execution_count": 52,
   "id": "0d409089-2b8d-479b-9a9c-e009906cbd1a",
   "metadata": {},
   "outputs": [
    {
     "data": {
      "text/plain": [
       "smoking_status\n",
       "never smoked       29345\n",
       "formerly smoked     7493\n",
       "smokes              6562\n",
       "Name: count, dtype: int64"
      ]
     },
     "execution_count": 52,
     "metadata": {},
     "output_type": "execute_result"
    }
   ],
   "source": [
    "data['smoking_status'].value_counts()"
   ]
  },
  {
   "cell_type": "code",
   "execution_count": 41,
   "id": "57cb8da1-b5b3-4b11-8598-a021cc0675ec",
   "metadata": {},
   "outputs": [
    {
     "data": {
      "text/plain": [
       "array(['NO', 'YES'], dtype=object)"
      ]
     },
     "execution_count": 41,
     "metadata": {},
     "output_type": "execute_result"
    }
   ],
   "source": [
    "data['stroke'].unique()"
   ]
  },
  {
   "cell_type": "code",
   "execution_count": 42,
   "id": "943aa383-1909-4b92-b38f-74565ff6dc0c",
   "metadata": {},
   "outputs": [
    {
     "data": {
      "text/plain": [
       "stroke\n",
       "NO     42617\n",
       "YES      783\n",
       "Name: count, dtype: int64"
      ]
     },
     "execution_count": 42,
     "metadata": {},
     "output_type": "execute_result"
    }
   ],
   "source": [
    "data['stroke'].value_counts()"
   ]
  },
  {
   "cell_type": "code",
   "execution_count": null,
   "id": "deea93e1-9162-4eb2-b3ae-c2f65226d507",
   "metadata": {},
   "outputs": [],
   "source": []
  }
 ],
 "metadata": {
  "kernelspec": {
   "display_name": "Python 3 (ipykernel)",
   "language": "python",
   "name": "python3"
  },
  "language_info": {
   "codemirror_mode": {
    "name": "ipython",
    "version": 3
   },
   "file_extension": ".py",
   "mimetype": "text/x-python",
   "name": "python",
   "nbconvert_exporter": "python",
   "pygments_lexer": "ipython3",
   "version": "3.11.7"
  }
 },
 "nbformat": 4,
 "nbformat_minor": 5
}
